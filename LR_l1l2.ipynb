{
 "cells": [
  {
   "cell_type": "code",
   "execution_count": 21,
   "metadata": {},
   "outputs": [],
   "source": [
    "import numpy as np\n",
    "import pandas as pd\n",
    "import matplotlib as mpl\n",
    "import matplotlib.pyplot as plt\n",
    "\n",
    "from sklearn.model_selection import train_test_split\n",
    "from sklearn.linear_model import LogisticRegression\n",
    "from sklearn.metrics import accuracy_score,confusion_matrix,classification_report"
   ]
  },
  {
   "cell_type": "markdown",
   "metadata": {},
   "source": [
    "load data - breast cancer"
   ]
  },
  {
   "cell_type": "code",
   "execution_count": 56,
   "metadata": {
    "scrolled": true
   },
   "outputs": [
    {
     "name": "stdout",
     "output_type": "stream",
     "text": [
      "<class 'pandas.core.frame.DataFrame'>\n",
      "RangeIndex: 698 entries, 0 to 697\n",
      "Data columns (total 11 columns):\n",
      "1000025    698 non-null int64\n",
      "5          698 non-null int64\n",
      "1          698 non-null int64\n",
      "1.1        698 non-null int64\n",
      "1.2        698 non-null int64\n",
      "2          698 non-null int64\n",
      "1.3        698 non-null object\n",
      "3          698 non-null int64\n",
      "1.4        698 non-null int64\n",
      "1.5        698 non-null int64\n",
      "2.1        698 non-null int64\n",
      "dtypes: int64(10), object(1)\n",
      "memory usage: 60.1+ KB\n"
     ]
    }
   ],
   "source": [
    "df = pd.read_csv('D:/Python/exercise/breast-cancer-wisconsin.data')\n",
    "df.info()"
   ]
  },
  {
   "cell_type": "code",
   "execution_count": 57,
   "metadata": {},
   "outputs": [
    {
     "data": {
      "text/html": [
       "<div>\n",
       "<style scoped>\n",
       "    .dataframe tbody tr th:only-of-type {\n",
       "        vertical-align: middle;\n",
       "    }\n",
       "\n",
       "    .dataframe tbody tr th {\n",
       "        vertical-align: top;\n",
       "    }\n",
       "\n",
       "    .dataframe thead th {\n",
       "        text-align: right;\n",
       "    }\n",
       "</style>\n",
       "<table border=\"1\" class=\"dataframe\">\n",
       "  <thead>\n",
       "    <tr style=\"text-align: right;\">\n",
       "      <th></th>\n",
       "      <th>1000025</th>\n",
       "      <th>5</th>\n",
       "      <th>1</th>\n",
       "      <th>1.1</th>\n",
       "      <th>1.2</th>\n",
       "      <th>2</th>\n",
       "      <th>1.3</th>\n",
       "      <th>3</th>\n",
       "      <th>1.4</th>\n",
       "      <th>1.5</th>\n",
       "      <th>2.1</th>\n",
       "    </tr>\n",
       "  </thead>\n",
       "  <tbody>\n",
       "    <tr>\n",
       "      <td>0</td>\n",
       "      <td>1002945</td>\n",
       "      <td>5</td>\n",
       "      <td>4</td>\n",
       "      <td>4</td>\n",
       "      <td>5</td>\n",
       "      <td>7</td>\n",
       "      <td>10</td>\n",
       "      <td>3</td>\n",
       "      <td>2</td>\n",
       "      <td>1</td>\n",
       "      <td>2</td>\n",
       "    </tr>\n",
       "    <tr>\n",
       "      <td>1</td>\n",
       "      <td>1015425</td>\n",
       "      <td>3</td>\n",
       "      <td>1</td>\n",
       "      <td>1</td>\n",
       "      <td>1</td>\n",
       "      <td>2</td>\n",
       "      <td>2</td>\n",
       "      <td>3</td>\n",
       "      <td>1</td>\n",
       "      <td>1</td>\n",
       "      <td>2</td>\n",
       "    </tr>\n",
       "    <tr>\n",
       "      <td>2</td>\n",
       "      <td>1016277</td>\n",
       "      <td>6</td>\n",
       "      <td>8</td>\n",
       "      <td>8</td>\n",
       "      <td>1</td>\n",
       "      <td>3</td>\n",
       "      <td>4</td>\n",
       "      <td>3</td>\n",
       "      <td>7</td>\n",
       "      <td>1</td>\n",
       "      <td>2</td>\n",
       "    </tr>\n",
       "    <tr>\n",
       "      <td>3</td>\n",
       "      <td>1017023</td>\n",
       "      <td>4</td>\n",
       "      <td>1</td>\n",
       "      <td>1</td>\n",
       "      <td>3</td>\n",
       "      <td>2</td>\n",
       "      <td>1</td>\n",
       "      <td>3</td>\n",
       "      <td>1</td>\n",
       "      <td>1</td>\n",
       "      <td>2</td>\n",
       "    </tr>\n",
       "    <tr>\n",
       "      <td>4</td>\n",
       "      <td>1017122</td>\n",
       "      <td>8</td>\n",
       "      <td>10</td>\n",
       "      <td>10</td>\n",
       "      <td>8</td>\n",
       "      <td>7</td>\n",
       "      <td>10</td>\n",
       "      <td>9</td>\n",
       "      <td>7</td>\n",
       "      <td>1</td>\n",
       "      <td>4</td>\n",
       "    </tr>\n",
       "  </tbody>\n",
       "</table>\n",
       "</div>"
      ],
      "text/plain": [
       "   1000025  5   1  1.1  1.2  2 1.3  3  1.4  1.5  2.1\n",
       "0  1002945  5   4    4    5  7  10  3    2    1    2\n",
       "1  1015425  3   1    1    1  2   2  3    1    1    2\n",
       "2  1016277  6   8    8    1  3   4  3    7    1    2\n",
       "3  1017023  4   1    1    3  2   1  3    1    1    2\n",
       "4  1017122  8  10   10    8  7  10  9    7    1    4"
      ]
     },
     "execution_count": 57,
     "metadata": {},
     "output_type": "execute_result"
    }
   ],
   "source": [
    "df.head()"
   ]
  },
  {
   "cell_type": "markdown",
   "metadata": {},
   "source": [
    "clean data"
   ]
  },
  {
   "cell_type": "code",
   "execution_count": 61,
   "metadata": {},
   "outputs": [
    {
     "name": "stdout",
     "output_type": "stream",
     "text": [
      "<class 'pandas.core.frame.DataFrame'>\n",
      "RangeIndex: 698 entries, 0 to 697\n",
      "Data columns (total 9 columns):\n",
      "5      698 non-null int64\n",
      "1      698 non-null int64\n",
      "1.1    698 non-null int64\n",
      "1.2    698 non-null int64\n",
      "2      698 non-null int64\n",
      "1.3    698 non-null int32\n",
      "3      698 non-null int64\n",
      "1.4    698 non-null int64\n",
      "1.5    698 non-null int64\n",
      "dtypes: int32(1), int64(8)\n",
      "memory usage: 46.5 KB\n"
     ]
    }
   ],
   "source": [
    "df.replace(\"?\",0,inplace=True)\n",
    "df['1.3'] = df['1.3'].astype(np.int)\n",
    "x = df.iloc[:,1:-1]\n",
    "y = df.iloc[:,-1]\n",
    "x.info()"
   ]
  },
  {
   "cell_type": "code",
   "execution_count": 62,
   "metadata": {},
   "outputs": [
    {
     "name": "stdout",
     "output_type": "stream",
     "text": [
      "(698,)\n",
      "(698, 9)\n"
     ]
    }
   ],
   "source": [
    "x_train,x_test,y_train,y_test = train_test_split(x,y,test_size=0.2,random_state=2)\n",
    "print(y.shape)\n",
    "print(x.shape)"
   ]
  },
  {
   "cell_type": "markdown",
   "metadata": {},
   "source": [
    "LR"
   ]
  },
  {
   "cell_type": "code",
   "execution_count": 65,
   "metadata": {},
   "outputs": [
    {
     "name": "stderr",
     "output_type": "stream",
     "text": [
      "D:\\Python\\anaconda\\lib\\site-packages\\sklearn\\linear_model\\logistic.py:432: FutureWarning: Default solver will be changed to 'lbfgs' in 0.22. Specify a solver to silence this warning.\n",
      "  FutureWarning)\n"
     ]
    },
    {
     "name": "stdout",
     "output_type": "stream",
     "text": [
      "algo score on training data: 0.9713261648745519\n",
      "accuracy score: 0.9713261648745519\n",
      "confusion matrix: [[358   7]\n",
      " [  9 184]]\n",
      "classification report:               precision    recall  f1-score   support\n",
      "\n",
      "           2       0.98      0.98      0.98       365\n",
      "           4       0.96      0.95      0.96       193\n",
      "\n",
      "    accuracy                           0.97       558\n",
      "   macro avg       0.97      0.97      0.97       558\n",
      "weighted avg       0.97      0.97      0.97       558\n",
      "\n"
     ]
    }
   ],
   "source": [
    "algo = LogisticRegression()\n",
    "algo.fit(x_train,y_train)\n",
    "train_predict = algo.predict(x_train)\n",
    "test_predict = algo.predict(x_test)\n",
    "\n",
    "#model evaluation\n",
    "print('algo score on training data:',algo.score(x_train, y_train))\n",
    "print('accuracy score:',accuracy_score(y_train, train_predict))\n",
    "print('confusion matrix:',confusion_matrix(y_train, train_predict))\n",
    "print('classification report:', classification_report(y_train, train_predict))"
   ]
  },
  {
   "cell_type": "markdown",
   "metadata": {},
   "source": [
    "LR-L1、L2 penalty "
   ]
  },
  {
   "cell_type": "code",
   "execution_count": 70,
   "metadata": {},
   "outputs": [
    {
     "name": "stdout",
     "output_type": "stream",
     "text": [
      "L1 score on training data: 0.9695340501792115\n",
      "L1 accuracy score: 0.9695340501792115\n",
      "L1 confusion matrix: [[357   8]\n",
      " [  9 184]]\n",
      "L1 classification report:               precision    recall  f1-score   support\n",
      "\n",
      "           2       0.98      0.98      0.98       365\n",
      "           4       0.96      0.95      0.96       193\n",
      "\n",
      "    accuracy                           0.97       558\n",
      "   macro avg       0.97      0.97      0.97       558\n",
      "weighted avg       0.97      0.97      0.97       558\n",
      "\n",
      "L2 score on training data: 0.9713261648745519\n",
      "L2 accuracy score: 0.9713261648745519\n",
      "L2 confusion matrix: [[357   8]\n",
      " [  8 185]]\n",
      "L2 classification report:               precision    recall  f1-score   support\n",
      "\n",
      "           2       0.98      0.98      0.98       365\n",
      "           4       0.96      0.96      0.96       193\n",
      "\n",
      "    accuracy                           0.97       558\n",
      "   macro avg       0.97      0.97      0.97       558\n",
      "weighted avg       0.97      0.97      0.97       558\n",
      "\n",
      "EN score on training data: 0.9695340501792115\n",
      "EN accuracy score: 0.9695340501792115\n",
      "EN confusion matrix: [[357   8]\n",
      " [  9 184]]\n",
      "EN classification report:               precision    recall  f1-score   support\n",
      "\n",
      "           2       0.98      0.98      0.98       365\n",
      "           4       0.96      0.95      0.96       193\n",
      "\n",
      "    accuracy                           0.97       558\n",
      "   macro avg       0.97      0.97      0.97       558\n",
      "weighted avg       0.97      0.97      0.97       558\n",
      "\n"
     ]
    },
    {
     "name": "stderr",
     "output_type": "stream",
     "text": [
      "D:\\Python\\anaconda\\lib\\site-packages\\sklearn\\linear_model\\sag.py:337: ConvergenceWarning: The max_iter was reached which means the coef_ did not converge\n",
      "  \"the coef_ did not converge\", ConvergenceWarning)\n",
      "D:\\Python\\anaconda\\lib\\site-packages\\sklearn\\linear_model\\sag.py:337: ConvergenceWarning: The max_iter was reached which means the coef_ did not converge\n",
      "  \"the coef_ did not converge\", ConvergenceWarning)\n",
      "D:\\Python\\anaconda\\lib\\site-packages\\sklearn\\linear_model\\sag.py:337: ConvergenceWarning: The max_iter was reached which means the coef_ did not converge\n",
      "  \"the coef_ did not converge\", ConvergenceWarning)\n"
     ]
    }
   ],
   "source": [
    "algo_l1= LogisticRegression(penalty='l1',solver='saga')\n",
    "algo_l2= LogisticRegression(penalty='l2',solver='saga')\n",
    "algo_EN= LogisticRegression(penalty='elasticnet',solver='saga',l1_ratio=0.5) #only 'saga' solver can be used in EN, and add l1_ratio\n",
    "\n",
    "algo_l1.fit(x_train, y_train)\n",
    "train_pred1 = algo_l1.predict(x_train)\n",
    "test_pred1 = algo_l1.predict(x_test)\n",
    "\n",
    "#model evaluation\n",
    "print('L1 score on training data:',algo_l1.score(x_train, y_train))\n",
    "print('L1 accuracy score:',accuracy_score(y_train, train_pred1))\n",
    "print('L1 confusion matrix:',confusion_matrix(y_train, train_pred1))\n",
    "print('L1 classification report:', classification_report(y_train, train_pred1))\n",
    "\n",
    "algo_l2.fit(x_train, y_train)\n",
    "train_pred2 = algo_l2.predict(x_train)\n",
    "test_pred2 = algo_l2.predict(x_test)\n",
    "\n",
    "#model evaluation\n",
    "print('L2 score on training data:',algo_l2.score(x_train, y_train))\n",
    "print('L2 accuracy score:',accuracy_score(y_train, train_pred2))\n",
    "print('L2 confusion matrix:',confusion_matrix(y_train, train_pred2))\n",
    "print('L2 classification report:', classification_report(y_train, train_pred2))\n",
    "\n",
    "algo_EN.fit(x_train, y_train)\n",
    "train_pred3 = algo_EN.predict(x_train)\n",
    "test_pred3 = algo_EN.predict(x_test)\n",
    "\n",
    "#model evaluation\n",
    "print('EN score on training data:',algo_EN.score(x_train, y_train))\n",
    "print('EN accuracy score:',accuracy_score(y_train, train_pred3))\n",
    "print('EN confusion matrix:',confusion_matrix(y_train, train_pred3))\n",
    "print('EN classification report:', classification_report(y_train, train_pred3))\n"
   ]
  },
  {
   "cell_type": "markdown",
   "metadata": {},
   "source": [
    "solver{‘newton-cg’, ‘lbfgs’, ‘liblinear’, ‘sag’, ‘saga’}, default=’lbfgs’\n",
    "Algorithm to use in the optimization problem.\n",
    "\n",
    "For SMALL datasets, ‘liblinear’ is a good choice, whereas ‘sag’ and ‘saga’ are faster for large ones.\n",
    "\n",
    "For multiclass problems, only ‘newton-cg’, ‘sag’, ‘saga’ and ‘lbfgs’ handle multinomial loss; ‘liblinear’ is LIMITED to one-versus-rest schemes.\n",
    "\n",
    "‘newton-cg’, ‘lbfgs’, ‘sag’ and ‘saga’ handle L2 or no penalty\n",
    "\n",
    "‘liblinear’ and ‘saga’ also handle L1 penalty\n",
    "\n",
    "‘saga’ also supports ‘elasticnet’ penalty\n",
    "\n",
    "‘liblinear’ does not support setting penalty='none'"
   ]
  },
  {
   "cell_type": "code",
   "execution_count": null,
   "metadata": {},
   "outputs": [],
   "source": []
  }
 ],
 "metadata": {
  "kernelspec": {
   "display_name": "Python 3",
   "language": "python",
   "name": "python3"
  },
  "language_info": {
   "codemirror_mode": {
    "name": "ipython",
    "version": 3
   },
   "file_extension": ".py",
   "mimetype": "text/x-python",
   "name": "python",
   "nbconvert_exporter": "python",
   "pygments_lexer": "ipython3",
   "version": "3.7.4"
  }
 },
 "nbformat": 4,
 "nbformat_minor": 2
}
