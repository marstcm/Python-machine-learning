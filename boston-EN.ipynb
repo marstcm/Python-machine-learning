{
 "cells": [
  {
   "cell_type": "code",
   "execution_count": 1,
   "metadata": {},
   "outputs": [],
   "source": [
    "import time\n",
    "import pandas as pd\n",
    "import numpy as np\n",
    "import matplotlib as mpl\n",
    "import matplotlib.pyplot as plt\n",
    "from sklearn.model_selection import train_test_split\n",
    "from sklearn.preprocessing import PolynomialFeatures\n",
    "from sklearn.linear_model import ElasticNet\n",
    "from sklearn.pipeline import Pipeline"
   ]
  },
  {
   "cell_type": "code",
   "execution_count": 2,
   "metadata": {},
   "outputs": [],
   "source": [
    "#防止乱码#\n",
    "mpl.rcParams['font.sans-serif'] = [u'simHei']"
   ]
  },
  {
   "cell_type": "code",
   "execution_count": 3,
   "metadata": {},
   "outputs": [],
   "source": [
    "#load data#\n",
    "path='D:/python/exercise/boston_housing.data'\n",
    "df = pd.read_csv(path, sep=\";\")"
   ]
  },
  {
   "cell_type": "code",
   "execution_count": 4,
   "metadata": {},
   "outputs": [
    {
     "name": "stdout",
     "output_type": "stream",
     "text": [
      "[[2.7310e-02 0.0000e+00 7.0700e+00 ... 3.9690e+02 9.1400e+00 2.1600e+01]\n",
      " [2.7290e-02 0.0000e+00 7.0700e+00 ... 3.9283e+02 4.0300e+00 3.4700e+01]\n",
      " [3.2370e-02 0.0000e+00 2.1800e+00 ... 3.9463e+02 2.9400e+00 3.3400e+01]\n",
      " ...\n",
      " [6.0760e-02 0.0000e+00 1.1930e+01 ... 3.9690e+02 5.6400e+00 2.3900e+01]\n",
      " [1.0959e-01 0.0000e+00 1.1930e+01 ... 3.9345e+02 6.4800e+00 2.2000e+01]\n",
      " [4.7410e-02 0.0000e+00 1.1930e+01 ... 3.9690e+02 7.8800e+00 1.1900e+01]]\n",
      "(505, 14)\n"
     ]
    }
   ],
   "source": [
    "data=np.empty(shape=(len(df),14))\n",
    "for idx,value in enumerate(df.values):\n",
    "    value=value[0]\n",
    "    values=value.split(\" \")\n",
    "    values=filter(lambda v:v !=\"\", values)\n",
    "    data[idx]=list(values)\n",
    "data= data.astype(np.float32)\n",
    "print(data)\n",
    "print(data.shape)"
   ]
  },
  {
   "cell_type": "code",
   "execution_count": 5,
   "metadata": {},
   "outputs": [
    {
     "name": "stdout",
     "output_type": "stream",
     "text": [
      "(505, 13)\n",
      "505\n"
     ]
    }
   ],
   "source": [
    "#区分x,y#\n",
    "x,y=np.split(data,(13,),axis=1)\n",
    "y=y.ravel()\n",
    "print(x.shape)\n",
    "print(y.shape[0])"
   ]
  },
  {
   "cell_type": "code",
   "execution_count": 6,
   "metadata": {},
   "outputs": [
    {
     "name": "stdout",
     "output_type": "stream",
     "text": [
      "(404, 13)\n",
      "(404,)\n"
     ]
    }
   ],
   "source": [
    "#train-test data\n",
    "x_train,x_test,y_train,y_test=train_test_split(x,y,test_size=0.2,random_state=0)\n",
    "print(x_train.shape)\n",
    "print(y_train.shape)"
   ]
  },
  {
   "cell_type": "code",
   "execution_count": 7,
   "metadata": {},
   "outputs": [
    {
     "name": "stdout",
     "output_type": "stream",
     "text": [
      "截距项值:29.146440505981445\n",
      "1阶训练集上r2:0.5273509731294972\n",
      "1阶测试集上r2:0.6246138186513372\n",
      "截距项值:30.862316131591797\n",
      "2阶训练集上r2:0.6572386668050505\n",
      "2阶测试集上r2:0.6962735894905738\n",
      "截距项值:20.543798446655273\n",
      "3阶训练集上r2:0.8893072524186891\n",
      "3阶测试集上r2:0.83274963884441\n"
     ]
    },
    {
     "name": "stderr",
     "output_type": "stream",
     "text": [
      "D:\\Python\\Anaconda\\lib\\site-packages\\sklearn\\linear_model\\coordinate_descent.py:491: ConvergenceWarning: Objective did not converge. You might want to increase the number of iterations. Fitting data with very small alpha may cause precision problems.\n",
      "  ConvergenceWarning)\n"
     ]
    }
   ],
   "source": [
    "#Ridge1阶#\n",
    "algo = Pipeline(steps=[\n",
    "    ('poly', PolynomialFeatures(degree=1)),  # 指定第一步做什么操作\n",
    "    ('algo', ElasticNet(alpha=10.0))  # 指定最后一步做什么操作，最后一步一般为模型对象\n",
    "])\n",
    "\n",
    "algo.fit(x_train, y_train)\n",
    "#模型结果#\n",
    "print(\"截距项值:{}\".format(algo.steps[-1][1].intercept_))\n",
    "print(\"1阶训练集上r2:{}\".format(algo.score(x_train,y_train)))\n",
    "print(\"1阶测试集上r2:{}\".format(algo.score(x_test,y_test)))\n",
    "#线性回归2阶#\n",
    "algo = Pipeline(steps=[\n",
    "    ('poly', PolynomialFeatures(degree=2)),  # 指定第一步做什么操作\n",
    "    ('algo', ElasticNet(alpha=1000.0))  # 指定最后一步做什么操作，最后一步一般为模型对象\n",
    "])\n",
    "\n",
    "algo.fit(x_train, y_train)\n",
    "#模型结果#\n",
    "print(\"截距项值:{}\".format(algo.steps[-1][1].intercept_))\n",
    "print(\"2阶训练集上r2:{}\".format(algo.score(x_train,y_train)))\n",
    "print(\"2阶测试集上r2:{}\".format(algo.score(x_test,y_test)))\n",
    "#线性回归3阶#\n",
    "algo = Pipeline(steps=[\n",
    "    ('poly', PolynomialFeatures(degree=3)),  # 指定第一步做什么操作\n",
    "    ('algo', ElasticNet(alpha=3000.0))  # 指定最后一步做什么操作，最后一步一般为模型对象\n",
    "])\n",
    "\n",
    "algo.fit(x_train, y_train)\n",
    "#模型结果#\n",
    "print(\"截距项值:{}\".format(algo.steps[-1][1].intercept_))\n",
    "print(\"3阶训练集上r2:{}\".format(algo.score(x_train,y_train)))\n",
    "print(\"3阶测试集上r2:{}\".format(algo.score(x_test,y_test)))"
   ]
  },
  {
   "cell_type": "code",
   "execution_count": null,
   "metadata": {},
   "outputs": [],
   "source": []
  }
 ],
 "metadata": {
  "kernelspec": {
   "display_name": "Python 3",
   "language": "python",
   "name": "python3"
  },
  "language_info": {
   "codemirror_mode": {
    "name": "ipython",
    "version": 3
   },
   "file_extension": ".py",
   "mimetype": "text/x-python",
   "name": "python",
   "nbconvert_exporter": "python",
   "pygments_lexer": "ipython3",
   "version": "3.6.4"
  }
 },
 "nbformat": 4,
 "nbformat_minor": 2
}
