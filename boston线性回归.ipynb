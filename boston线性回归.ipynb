{
 "cells": [
  {
   "cell_type": "code",
   "execution_count": 1,
   "metadata": {},
   "outputs": [],
   "source": [
    "import time\n",
    "import pandas as pd\n",
    "import numpy as np\n",
    "import matplotlib as mpl\n",
    "import matplotlib.pyplot as plt\n",
    "from sklearn.model_selection import train_test_split\n",
    "from sklearn.preprocessing import PolynomialFeatures\n",
    "from sklearn.linear_model import LinearRegression\n",
    "from sklearn.pipeline import Pipeline"
   ]
  },
  {
   "cell_type": "code",
   "execution_count": 2,
   "metadata": {},
   "outputs": [],
   "source": [
    "#防止乱码#\n",
    "mpl.rcParams['font.sans-serif'] = [u'simHei']"
   ]
  },
  {
   "cell_type": "code",
   "execution_count": 3,
   "metadata": {},
   "outputs": [],
   "source": [
    "#load data#\n",
    "path='D:/python/exercise/boston_housing.data'\n",
    "df = pd.read_csv(path, sep=\";\")"
   ]
  },
  {
   "cell_type": "code",
   "execution_count": 4,
   "metadata": {},
   "outputs": [
    {
     "name": "stdout",
     "output_type": "stream",
     "text": [
      "[[2.7310e-02 0.0000e+00 7.0700e+00 ... 3.9690e+02 9.1400e+00 2.1600e+01]\n",
      " [2.7290e-02 0.0000e+00 7.0700e+00 ... 3.9283e+02 4.0300e+00 3.4700e+01]\n",
      " [3.2370e-02 0.0000e+00 2.1800e+00 ... 3.9463e+02 2.9400e+00 3.3400e+01]\n",
      " ...\n",
      " [6.0760e-02 0.0000e+00 1.1930e+01 ... 3.9690e+02 5.6400e+00 2.3900e+01]\n",
      " [1.0959e-01 0.0000e+00 1.1930e+01 ... 3.9345e+02 6.4800e+00 2.2000e+01]\n",
      " [4.7410e-02 0.0000e+00 1.1930e+01 ... 3.9690e+02 7.8800e+00 1.1900e+01]]\n",
      "(505, 14)\n"
     ]
    }
   ],
   "source": [
    "data=np.empty(shape=(len(df),14))\n",
    "for idx,value in enumerate(df.values):\n",
    "    value=value[0]\n",
    "    values=value.split(\" \")\n",
    "    values=filter(lambda v:v !=\"\", values)\n",
    "    data[idx]=list(values)\n",
    "data= data.astype(np.float32)\n",
    "print(data)\n",
    "print(data.shape)"
   ]
  },
  {
   "cell_type": "code",
   "execution_count": 5,
   "metadata": {},
   "outputs": [
    {
     "name": "stdout",
     "output_type": "stream",
     "text": [
      "(505, 13)\n",
      "505\n"
     ]
    }
   ],
   "source": [
    "#区分x,y#\n",
    "x,y=np.split(data,(13,),axis=1)\n",
    "y=y.ravel()\n",
    "print(x.shape)\n",
    "print(y.shape[0])"
   ]
  },
  {
   "cell_type": "code",
   "execution_count": 6,
   "metadata": {},
   "outputs": [
    {
     "name": "stdout",
     "output_type": "stream",
     "text": [
      "(404, 13)\n",
      "(404,)\n"
     ]
    }
   ],
   "source": [
    "#train-test data\n",
    "x_train,x_test,y_train,y_test=train_test_split(x,y,test_size=0.2,random_state=0)\n",
    "print(x_train.shape)\n",
    "print(y_train.shape)"
   ]
  },
  {
   "cell_type": "code",
   "execution_count": 7,
   "metadata": {},
   "outputs": [
    {
     "name": "stdout",
     "output_type": "stream",
     "text": [
      "截距项值:37.69016647338867\n",
      "1阶训练集上r2:0.7275841947025221\n",
      "1阶测试集上r2:0.7881077692975853\n",
      "截距项值:-68.39421844482422\n",
      "2阶训练集上r2:0.9254615297264116\n",
      "2阶测试集上r2:0.8578178774254438\n",
      "截距项值:28.853120803833008\n",
      "3阶训练集上r2:0.9615651543308162\n",
      "3阶测试集上r2:0.5692648789938042\n"
     ]
    }
   ],
   "source": [
    "#线性回归1阶#\n",
    "poly=PolynomialFeatures(degree=1)\n",
    "x_train=poly.fit_transform(x_train)\n",
    "x_test=poly.transform(x_test)\n",
    "algo=LinearRegression(fit_intercept=True)\n",
    "algo.fit(x_train,y_train)\n",
    "#模型结果#\n",
    "print(\"截距项值:{}\".format(algo.intercept_))\n",
    "print(\"1阶训练集上r2:{}\".format(algo.score(x_train,y_train)))\n",
    "print(\"1阶测试集上r2:{}\".format(algo.score(x_test,y_test)))\n",
    "#线性回归2阶#\n",
    "x_train,x_test,y_train,y_test=train_test_split(x,y,test_size=0.2,random_state=0)\n",
    "poly=PolynomialFeatures(degree=2)\n",
    "x_train=poly.fit_transform(x_train)\n",
    "x_test=poly.transform(x_test)\n",
    "algo=LinearRegression(fit_intercept=True)\n",
    "algo.fit(x_train,y_train)\n",
    "#模型结果#\n",
    "print(\"截距项值:{}\".format(algo.intercept_))\n",
    "print(\"2阶训练集上r2:{}\".format(algo.score(x_train,y_train)))\n",
    "print(\"2阶测试集上r2:{}\".format(algo.score(x_test,y_test)))\n",
    "#线性回归3阶#\n",
    "x_train,x_test,y_train,y_test=train_test_split(x,y,test_size=0.2,random_state=0)\n",
    "poly=PolynomialFeatures(degree=3)\n",
    "x_train=poly.fit_transform(x_train)\n",
    "x_test=poly.transform(x_test)\n",
    "algo=LinearRegression(fit_intercept=True)\n",
    "algo.fit(x_train,y_train)\n",
    "#模型结果#\n",
    "print(\"截距项值:{}\".format(algo.intercept_))\n",
    "print(\"3阶训练集上r2:{}\".format(algo.score(x_train,y_train)))\n",
    "print(\"3阶测试集上r2:{}\".format(algo.score(x_test,y_test)))"
   ]
  }
 ],
 "metadata": {
  "kernelspec": {
   "display_name": "Python 3",
   "language": "python",
   "name": "python3"
  },
  "language_info": {
   "codemirror_mode": {
    "name": "ipython",
    "version": 3
   },
   "file_extension": ".py",
   "mimetype": "text/x-python",
   "name": "python",
   "nbconvert_exporter": "python",
   "pygments_lexer": "ipython3",
   "version": "3.6.4"
  }
 },
 "nbformat": 4,
 "nbformat_minor": 2
}
